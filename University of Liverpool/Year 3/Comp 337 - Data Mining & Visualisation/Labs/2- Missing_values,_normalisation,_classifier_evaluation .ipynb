{
  "cells": [
    {
      "cell_type": "markdown",
      "metadata": {
        "id": "pLDpfI3OWom_"
      },
      "source": [
        "# Missing values, normalisation, classifier evaluation"
      ]
    },
    {
      "cell_type": "code",
      "execution_count": 16,
      "metadata": {
        "id": "98yz2tcnWonD"
      },
      "outputs": [],
      "source": [
        "import numpy as np"
      ]
    },
    {
      "cell_type": "markdown",
      "metadata": {
        "id": "cmJYIkc1WonD"
      },
      "source": [
        "## Exercise 1\n",
        "\n",
        "Given dataset (as an Numpy array) that contains  records about 50 persons: (Gender, Height, Weight, Index).\n",
        "- Gender = 0 (Male); 1 (Female) (binary)\n",
        "- Height = person's height in cm (integer)\n",
        "- Weight = person's weight in kg (integer)\n",
        "- Index = 0 - Extremely Weak; 1 - Weak; 2 - Normal; 3 - Overweight; 4 - Obesity; 5 - Extreme Obesity (integer from 0 to 5)"
      ]
    },
    {
      "cell_type": "code",
      "execution_count": 17,
      "metadata": {
        "id": "pmPGci4TWonE"
      },
      "outputs": [],
      "source": [
        "dataset = np.array([[0, 174, -1, 4], [0, 189, 87, 2], [1, 185, 110, 4], [1, 195, 104, 3], [0, 149, 61, 3], [0, 1893, 104, 3], [0, 147, 92, 5], [0, 154, 111, 5], [0, 174, 2, 3], [10, 169, 103, 4], [0, 195, 81, 2], [-1, 159, 80, 4], [1, 192, 101, 3], [0, 155, 51, 2], [0, 191, 379, 2], [1, 4, 107, 5], [1, 157, 110, 5], [0, 140, 129, 5], [0, 144, 145, 5], [0, 172, 139, -5], [0, 157, 110, 5], [1, 153, 149, 5], [1, 169, 97, 4], [0, 185, 139, 5], [1, 172, 67, 2], [1, 151, 64, 3], [0, 190, 95, 3], [0, 187, 62, 1], [1, 163, 159, 5], [0, 179, 152, 5], [0, 153, 121, 5], [0, 178, 52, 1], [1, 195, 65, 1], [1, 160, 131, 5], [1, 157, 153, 5], [1, 189, 132, 4], [1, 197, 114, 3], [0, 144, 80, 4], [1, 171, 152, 5], [1, 185, 81, 2], [1, 175, 120, 4], [1, 149, 108, 5], [0, 157, 56, 2], [0, 161, 118, 5], [1, 182, 126, 4], [0, 185, 76, 2], [1, 188, 122, 4], [0, 181, 111, 4], [0, 161, 72, 3], [0, 140, 152, 5]])"
      ]
    },
    {
      "cell_type": "markdown",
      "metadata": {
        "id": "U1jvxnezWonE"
      },
      "source": [
        "1. Output the records with noisy data, i.e., records where values of some features are most likely incorrect (you can assume that Height should be in the range $[50,220]$, and Weight in the range $[50, 160]$)"
      ]
    },
    {
      "cell_type": "code",
      "execution_count": 18,
      "metadata": {},
      "outputs": [
        {
          "name": "stdout",
          "output_type": "stream",
          "text": [
            "Noisy records:\n",
            "[[   0  174   -1    4]\n",
            " [   0 1893  104    3]\n",
            " [   0  174    2    3]\n",
            " [   0  191  379    2]\n",
            " [   1    4  107    5]]\n"
          ]
        }
      ],
      "source": [
        "# Define the valid ranges for Height and Weight\n",
        "valid_height_range = (50, 220)\n",
        "valid_weight_range = (50, 160)\n",
        "\n",
        "# Identify the noisy records\n",
        "noisy_records = dataset[\n",
        "    (dataset[:, 1] < valid_height_range[0]) | (dataset[:, 1] > valid_height_range[1]) |\n",
        "    (dataset[:, 2] < valid_weight_range[0]) | (dataset[:, 2] > valid_weight_range[1])\n",
        "]\n",
        "\n",
        "# Output the noisy records\n",
        "print(\"Noisy records:\")\n",
        "print(noisy_records)"
      ]
    },
    {
      "cell_type": "code",
      "execution_count": null,
      "metadata": {
        "id": "Md8nZ-xpWonE"
      },
      "outputs": [],
      "source": []
    },
    {
      "cell_type": "markdown",
      "metadata": {
        "id": "J46aFmBKWonE"
      },
      "source": [
        "2. Create a new dataset where noisy records (those that were identified as noisy in the previous step) are removed"
      ]
    },
    {
      "cell_type": "code",
      "execution_count": 19,
      "metadata": {
        "id": "dwwQUiWhWonF"
      },
      "outputs": [
        {
          "name": "stdout",
          "output_type": "stream",
          "text": [
            "Cleaned dataset:\n",
            "[[  0 189  87   2]\n",
            " [  1 185 110   4]\n",
            " [  1 195 104   3]\n",
            " [  0 149  61   3]\n",
            " [  0 147  92   5]\n",
            " [  0 154 111   5]\n",
            " [ 10 169 103   4]\n",
            " [  0 195  81   2]\n",
            " [ -1 159  80   4]\n",
            " [  1 192 101   3]\n",
            " [  0 155  51   2]\n",
            " [  1 157 110   5]\n",
            " [  0 140 129   5]\n",
            " [  0 144 145   5]\n",
            " [  0 172 139  -5]\n",
            " [  0 157 110   5]\n",
            " [  1 153 149   5]\n",
            " [  1 169  97   4]\n",
            " [  0 185 139   5]\n",
            " [  1 172  67   2]\n",
            " [  1 151  64   3]\n",
            " [  0 190  95   3]\n",
            " [  0 187  62   1]\n",
            " [  1 163 159   5]\n",
            " [  0 179 152   5]\n",
            " [  0 153 121   5]\n",
            " [  0 178  52   1]\n",
            " [  1 195  65   1]\n",
            " [  1 160 131   5]\n",
            " [  1 157 153   5]\n",
            " [  1 189 132   4]\n",
            " [  1 197 114   3]\n",
            " [  0 144  80   4]\n",
            " [  1 171 152   5]\n",
            " [  1 185  81   2]\n",
            " [  1 175 120   4]\n",
            " [  1 149 108   5]\n",
            " [  0 157  56   2]\n",
            " [  0 161 118   5]\n",
            " [  1 182 126   4]\n",
            " [  0 185  76   2]\n",
            " [  1 188 122   4]\n",
            " [  0 181 111   4]\n",
            " [  0 161  72   3]\n",
            " [  0 140 152   5]]\n"
          ]
        }
      ],
      "source": [
        "# Create a new dataset without noisy records\n",
        "cleaned_dataset = dataset[\n",
        "    (dataset[:, 1] >= valid_height_range[0]) & (dataset[:, 1] <= valid_height_range[1]) &\n",
        "    (dataset[:, 2] >= valid_weight_range[0]) & (dataset[:, 2] <= valid_weight_range[1])\n",
        "]\n",
        "\n",
        "# Output the cleaned dataset\n",
        "print(\"Cleaned dataset:\")\n",
        "print(cleaned_dataset)"
      ]
    },
    {
      "cell_type": "markdown",
      "metadata": {
        "id": "HgiCe7VRWonF"
      },
      "source": [
        "3. In the cleaned dataset, compute the means (i.e., average) of Height and Weight features (rounded to the nearest integer)"
      ]
    },
    {
      "cell_type": "code",
      "execution_count": 20,
      "metadata": {
        "id": "0f3BA-LIWonF"
      },
      "outputs": [
        {
          "name": "stdout",
          "output_type": "stream",
          "text": [
            "Mean Height: 169\n",
            "Mean Weight: 105\n"
          ]
        }
      ],
      "source": [
        "# Compute the means of Height and Weight features\n",
        "mean_height = np.round(np.mean(cleaned_dataset[:, 1])).astype(int)\n",
        "mean_weight = np.round(np.mean(cleaned_dataset[:, 2])).astype(int)\n",
        "\n",
        "# Output the means\n",
        "print(f\"Mean Height: {mean_height}\")\n",
        "print(f\"Mean Weight: {mean_weight}\")"
      ]
    },
    {
      "cell_type": "markdown",
      "metadata": {
        "id": "GuII8W8sWonF"
      },
      "source": [
        "4. Plot the data points from the cleaned dataset: For every record, plot the point with coordinates (Height, Weight), i.e. Height is along the X-axis and Weight is along the Y-axis. Use different colors/shapes of points for records with different value of Index. Can you see separation between the classes of objects with different values of Index?"
      ]
    },
    {
      "cell_type": "code",
      "execution_count": 21,
      "metadata": {
        "id": "wrOCL6EdWonF"
      },
      "outputs": [
        {
          "data": {
            "image/png": "[encoded data removed]",
            "text/plain": [
              "<Figure size 432x288 with 1 Axes>"
            ]
          },
          "metadata": {
            "needs_background": "light"
          },
          "output_type": "display_data"
        }
      ],
      "source": [
        "import matplotlib.pyplot as plt\n",
        "\n",
        "# Plot the data points from the cleaned dataset\n",
        "for index in range(6):\n",
        "    subset = cleaned_dataset[cleaned_dataset[:, 3] == index]\n",
        "    plt.scatter(subset[:, 1], subset[:, 2], label=f'Index {index}')\n",
        "\n",
        "plt.xlabel('Height')\n",
        "plt.ylabel('Weight')\n",
        "plt.legend()\n",
        "plt.title('Height vs Weight')\n",
        "plt.show()"
      ]
    },
    {
      "cell_type": "markdown",
      "metadata": {
        "id": "_Lg7XlDeWonF"
      },
      "source": [
        "---\n",
        "\n",
        "## Exercise 2\n",
        "\n",
        "Given a dataset of objects with 2 features, create new datasets where both features are normalised."
      ]
    },
    {
      "cell_type": "code",
      "execution_count": 22,
      "metadata": {
        "id": "0KEr4M3lWonG"
      },
      "outputs": [],
      "source": [
        "dataset2 = np.array([[116.87714213,  22.38724318],[ 98.05089468,  17.70419866],[121.91732905,  20.76950035],[150.60375643,  20.44777321],[116.15969721,  20.22792041],[175.55264595,  21.02920868],[130.2102414 ,  22.23461658],[117.79758934,  21.54449521],[199.05450964,  20.53902401],[155.00458477,  20.67588878],[160.27851623,  20.30877322],[142.49587465,  18.75387901],[167.32252309,  21.2040159 ],[178.11489609,  19.52285308],[135.76602655,  18.01816954],[117.62628615,  20.95436217],[171.74626081,  20.37269529],[130.11860385,  19.56387712],[122.68044125,  21.48927022],[159.43238282,  21.38030275],[108.78123817,  19.86203164],[152.70729255,  21.24708246],[143.64358057,  21.40357256],[209.68785285,  19.65378059],[133.08486628,  19.23372601],[138.2204662 ,  20.37983756],[143.65610499,  19.92235183],[143.29146765,  20.56157279],[106.79099845,  19.35181412],[208.89304694,  19.9697894 ],[183.55451445,  20.36281171],[144.46962995,  19.83011097],[174.87583233,  20.25079178],[137.33207546,  21.02909898],[187.74834101,  20.23883521],[127.59840561,  21.7328862 ],[110.15966458,  19.29460209],[130.82208863,  18.98107528],[166.72373008,  20.63258552],[154.50866392,  21.05583445],[190.93412702,  21.08776453],[148.62481651,  19.40248102],[115.50503568,  18.39916603],[155.39233722,  20.23610734],[146.44242825,  20.30917973],[114.21209804,  19.10945672],[140.4159023 ,  19.96369514],[140.82108456,  20.05603083],[129.50278428,  18.92210224],[174.88635445,  19.03980704]])"
      ]
    },
    {
      "cell_type": "markdown",
      "metadata": {
        "id": "DIJVfyAkWonG"
      },
      "source": [
        "1. Normalise features with $[0,1]$-scaling"
      ]
    },
    {
      "cell_type": "code",
      "execution_count": 23,
      "metadata": {
        "id": "K_stin6fWonG"
      },
      "outputs": [
        {
          "name": "stdout",
          "output_type": "stream",
          "text": [
            "[0,1]-scaled dataset:\n",
            "[[0.16863813 1.        ]\n",
            " [0.         0.        ]\n",
            " [0.21378614 0.65455318]\n",
            " [0.47074788 0.58585276]\n",
            " [0.16221154 0.5389062 ]\n",
            " [0.69423023 0.71001034]\n",
            " [0.28807079 0.96740868]\n",
            " [0.17688313 0.82004272]\n",
            " [0.90475069 0.60533812]\n",
            " [0.51016877 0.63456371]\n",
            " [0.55741058 0.55617121]\n",
            " [0.39812066 0.22414486]\n",
            " [0.62050802 0.74733802]\n",
            " [0.71718186 0.38834874]\n",
            " [0.33783733 0.06704418]\n",
            " [0.17534866 0.69402789]\n",
            " [0.66013413 0.5698209 ]\n",
            " [0.28724994 0.39710886]\n",
            " [0.2206218  0.80825018]\n",
            " [0.54983125 0.78498167]\n",
            " [0.0961182  0.46077567]\n",
            " [0.48959053 0.7565343 ]\n",
            " [0.40840136 0.78995062]\n",
            " [1.         0.41630651]\n",
            " [0.31382055 0.32660961]\n",
            " [0.35982324 0.57134603]\n",
            " [0.40851355 0.47365622]\n",
            " [0.40524727 0.6101531 ]\n",
            " [0.07829041 0.35182571]\n",
            " [0.99288044 0.48378586]\n",
            " [0.76590782 0.56771039]\n",
            " [0.41580079 0.45395945]\n",
            " [0.6881676  0.54379007]\n",
            " [0.35186538 0.70998691]\n",
            " [0.80347447 0.54123691]\n",
            " [0.26467499 0.86027103]\n",
            " [0.1084656  0.33960886]\n",
            " [0.29355148 0.27265951]\n",
            " [0.61514427 0.6253169 ]\n",
            " [0.50572651 0.71569591]\n",
            " [0.83201149 0.72251414]\n",
            " [0.45302132 0.36264493]\n",
            " [0.15634734 0.14840076]\n",
            " [0.51364211 0.54065441]\n",
            " [0.43347234 0.55625802]\n",
            " [0.14476571 0.30007361]\n",
            " [0.37948909 0.48248452]\n",
            " [0.38311855 0.50220154]\n",
            " [0.28173367 0.26006662]\n",
            " [0.68826185 0.28520087]]\n"
          ]
        }
      ],
      "source": [
        "# Normalise features with [0,1]-scaling\n",
        "min_vals = dataset2.min(axis=0)\n",
        "max_vals = dataset2.max(axis=0)\n",
        "dataset2_normalized_01 = (dataset2 - min_vals) / (max_vals - min_vals)\n",
        "\n",
        "# Output the normalized dataset\n",
        "print(\"[0,1]-scaled dataset:\")\n",
        "print(dataset2_normalized_01)"
      ]
    },
    {
      "cell_type": "markdown",
      "metadata": {
        "id": "pnUmKT_KWonG"
      },
      "source": [
        "2. Normalise features with Gaussian normalisation"
      ]
    },
    {
      "cell_type": "code",
      "execution_count": 24,
      "metadata": {
        "id": "ecZG3KCzWonG"
      },
      "outputs": [
        {
          "name": "stdout",
          "output_type": "stream",
          "text": [
            "Gaussian normalized dataset:\n",
            "[[-1.09940793  2.15253936]\n",
            " [-1.79571966 -2.48367468]\n",
            " [-0.91299047  0.55097397]\n",
            " [ 0.14801204  0.2324641 ]\n",
            " [-1.12594351  0.01480983]\n",
            " [ 1.07077715  0.80808521]\n",
            " [-0.60626699  2.00143903]\n",
            " [-1.06536407  1.31821887]\n",
            " [ 1.94002225  0.32280239]\n",
            " [ 0.31078204  0.45829852]\n",
            " [ 0.50584483  0.09485411]\n",
            " [-0.15186786 -1.44449114]\n",
            " [ 0.76637602  0.98114436]\n",
            " [ 1.1655451  -0.68320682]\n",
            " [-0.4007795  -2.17284351]\n",
            " [-1.07169993  0.73398717]\n",
            " [ 0.92999336  0.15813696]\n",
            " [-0.60965632 -0.64259302]\n",
            " [-0.88476584  1.26354613]\n",
            " [ 0.47454956  1.15566834]\n",
            " [-1.39884482 -0.34742005]\n",
            " [ 0.22581389  1.02378025]\n",
            " [-0.10941856  1.17870545]\n",
            " [ 2.33330942 -0.55358858]\n",
            " [-0.49994548 -0.96944262]\n",
            " [-0.30999906  0.16520781]\n",
            " [-0.10895532 -0.28770306]\n",
            " [-0.12244188  0.34512569]\n",
            " [-1.47245626 -0.85253539]\n",
            " [ 2.30391256 -0.24073987]\n",
            " [ 1.36673602  0.14835222]\n",
            " [-0.07886611 -0.37902151]\n",
            " [ 1.04574438  0.03745249]\n",
            " [-0.34285727  0.80797661]\n",
            " [ 1.52184981  0.02561548]\n",
            " [-0.70286893  1.50472595]\n",
            " [-1.34786204 -0.9091753 ]\n",
            " [-0.58363708 -1.21956684]\n",
            " [ 0.74422893  0.41542829]\n",
            " [ 0.29243981  0.83444473]\n",
            " [ 1.63968     0.8660555 ]\n",
            " [ 0.07481853 -0.80237516]\n",
            " [-1.15015696 -1.79565699]\n",
            " [ 0.32512354  0.02291489]\n",
            " [-0.00589976  0.09525656]\n",
            " [-1.19797784 -1.09246921]\n",
            " [-0.22879817 -0.24677318]\n",
            " [-0.21381201 -0.15536085]\n",
            " [-0.63243316 -1.27795015]\n",
            " [ 1.04613355 -1.16142239]]\n"
          ]
        }
      ],
      "source": [
        "# Normalise features with Gaussian normalisation\n",
        "mean_vals = dataset2.mean(axis=0)\n",
        "std_vals = dataset2.std(axis=0)\n",
        "dataset2_normalized_gaussian = (dataset2 - mean_vals) / std_vals\n",
        "\n",
        "# Output the Gaussian normalized dataset\n",
        "print(\"Gaussian normalized dataset:\")\n",
        "print(dataset2_normalized_gaussian)"
      ]
    },
    {
      "cell_type": "markdown",
      "metadata": {
        "id": "FJnoVtsbWonG"
      },
      "source": [
        "3. In three different plots show the original data, $[0,1]$-normilised, and Gaussian normalised data."
      ]
    },
    {
      "cell_type": "code",
      "execution_count": 25,
      "metadata": {
        "id": "9a0c-0GGWonG"
      },
      "outputs": [
        {
          "data": {
            "image/png": "[encoded data removed]",
            "text/plain": [
              "<Figure size 1296x360 with 3 Axes>"
            ]
          },
          "metadata": {
            "needs_background": "light"
          },
          "output_type": "display_data"
        }
      ],
      "source": [
        "# Plot the original, [0,1]-scaled, and Gaussian normalized data\n",
        "fig, axs = plt.subplots(1, 3, figsize=(18, 5))\n",
        "\n",
        "# Original data\n",
        "axs[0].scatter(dataset2[:, 0], dataset2[:, 1])\n",
        "axs[0].set_title('Original Data')\n",
        "axs[0].set_xlabel('Feature 1')\n",
        "axs[0].set_ylabel('Feature 2')\n",
        "\n",
        "# [0,1]-scaled data\n",
        "axs[1].scatter(dataset2_normalized_01[:, 0], dataset2_normalized_01[:, 1])\n",
        "axs[1].set_title('[0,1]-scaled Data')\n",
        "axs[1].set_xlabel('Feature 1')\n",
        "axs[1].set_ylabel('Feature 2')\n",
        "\n",
        "# Gaussian normalized data\n",
        "axs[2].scatter(dataset2_normalized_gaussian[:, 0], dataset2_normalized_gaussian[:, 1])\n",
        "axs[2].set_title('Gaussian Normalized Data')\n",
        "axs[2].set_xlabel('Feature 1')\n",
        "axs[2].set_ylabel('Feature 2')\n",
        "\n",
        "plt.show()"
      ]
    },
    {
      "cell_type": "markdown",
      "metadata": {
        "id": "_ZzUFbtvWonH"
      },
      "source": [
        "---\n",
        "\n",
        "## Exercise 3\n",
        "\n",
        "Given training ($\\texttt{y_true}$) and predicted ($\\texttt{y_pred}$) data for binary classification, where 1 corresponds to the positive class and 0 corresponds to the negative class, compute\n",
        "1. The number of True Positives, True Negatives, False Positives, False Negatives\n",
        "2. Accuracy\n",
        "3. Precision\n",
        "4. Recall\n",
        "5. F-score"
      ]
    },
    {
      "cell_type": "code",
      "execution_count": 26,
      "metadata": {
        "id": "hUR_vzmTWonH"
      },
      "outputs": [],
      "source": [
        "y_true = np.array([0, 1, 0, 0, 1, 1, 1, 0, 1, 1, 0, 0, 1, 1, 0, 1, 0, 1, 0, 0, 0, 0, 1, 1, 1, 1, 1, 0, 0, 1, 1, 1, 1, 1, 1, 1, 0, 0, 1, 1, 1, 0, 0, 1, 1, 1, 1, 0, 1, 0])\n",
        "y_pred = np.array([0, 1, 0, 0, 1, 0, 1, 1, 1, 1, 0, 0, 0, 0, 0, 1, 0, 1, 0, 0, 1, 1, 1, 0, 1, 1, 1, 0, 1, 1, 1, 1, 1, 1, 1, 1, 0, 0, 1, 1, 0, 0, 0, 0, 1, 1, 0, 1, 0, 0])"
      ]
    },
    {
      "cell_type": "code",
      "execution_count": 27,
      "metadata": {
        "id": "x_Kk4NmoWonH"
      },
      "outputs": [
        {
          "name": "stdout",
          "output_type": "stream",
          "text": [
            "True Positives: 22\n",
            "True Negatives: 15\n",
            "False Positives: 5\n",
            "False Negatives: 8\n",
            "Accuracy: 0.74\n",
            "Precision: 0.81\n",
            "Recall: 0.73\n",
            "F-score: 0.77\n"
          ]
        }
      ],
      "source": [
        "# Compute the number of True Positives, True Negatives, False Positives, False Negatives\n",
        "TP = np.sum((y_true == 1) & (y_pred == 1))\n",
        "TN = np.sum((y_true == 0) & (y_pred == 0))\n",
        "FP = np.sum((y_true == 0) & (y_pred == 1))\n",
        "FN = np.sum((y_true == 1) & (y_pred == 0))\n",
        "\n",
        "# Output the results\n",
        "print(f'True Positives: {TP}')\n",
        "print(f'True Negatives: {TN}')\n",
        "print(f'False Positives: {FP}')\n",
        "print(f'False Negatives: {FN}')\n",
        "\n",
        "# Compute Accuracy\n",
        "accuracy = (TP + TN) / (TP + TN + FP + FN)\n",
        "print(f'Accuracy: {accuracy:.2f}')\n",
        "\n",
        "# Compute Precision\n",
        "precision = TP / (TP + FP)\n",
        "print(f'Precision: {precision:.2f}')\n",
        "\n",
        "# Compute Recall\n",
        "recall = TP / (TP + FN)\n",
        "print(f'Recall: {recall:.2f}')\n",
        "\n",
        "# Compute F-score\n",
        "f_score = 2 * (precision * recall) / (precision + recall)\n",
        "print(f'F-score: {f_score:.2f}')"
      ]
    },
    {
      "cell_type": "markdown",
      "metadata": {
        "id": "_QxVDuGjWonH"
      },
      "source": [
        "---\n",
        "\n",
        "## Exercise 4\n",
        "\n",
        "Given training and predicted data for 4-class classification, where classes are 0,1,2,3"
      ]
    },
    {
      "cell_type": "code",
      "execution_count": 28,
      "metadata": {
        "id": "8WMozxqCWonH"
      },
      "outputs": [],
      "source": [
        "y_true = np.array([1, 2, 3, 0, 1, 1, 0, 0, 2, 0, 2, 2, 1, 0, 1, 2, 3, 3, 3, 3, 0, 0, 1, 0, 0, 0, 1, 0, 0, 3, 0, 3, 2, 1, 1, 2, 1, 0, 3, 1, 2, 0, 0, 1,3, 2, 3, 3, 3, 0, 3, 1, 0, 1, 0, 2, 0, 3, 3, 3, 2, 0, 1, 3, 0, 1,3, 3, 2, 2, 1, 3, 2, 2, 2, 2, 3, 1, 1, 2, 3, 2, 2, 3, 2, 2, 1, 1,2, 2, 0, 3, 0, 0, 0, 1, 0, 3, 1, 0, 0, 3, 3, 1, 0, 2, 0, 3, 3, 2,1, 0, 3, 2, 0, 1, 3, 1, 2, 1, 3, 2, 2, 2, 2, 3, 3, 3, 2, 0, 2, 2,2, 0, 2, 0, 0, 3, 0, 2, 2, 0, 1, 1, 2, 2, 3, 0, 1, 0, 1, 0, 0, 0,0, 0, 2, 2, 0, 3, 3, 2, 3, 0, 3, 3, 2, 0, 0, 1, 2, 2, 3, 3, 1, 3,1, 2, 1, 2, 0, 0, 0, 0, 2, 2, 1, 3, 0, 2, 1, 1, 1, 1, 3, 2, 1, 3,1, 0])\n",
        "y_pred = np.array([1, 1, 1, 1, 2, 1, 0, 0, 2, 0, 2, 2, 1, 3, 1, 2, 1, 3, 2, 3, 1, 1, 2, 3, 0, 0, 1, 0, 1, 0, 2, 3, 2, 0, 1, 3, 1, 0, 0, 1, 3, 1, 0, 1,3, 3, 3, 3, 3, 1, 3, 1, 2, 2, 0, 2, 0, 3, 3, 3, 0, 2, 2, 3, 2, 2,3, 3, 2, 2, 1, 3, 3, 2, 3, 2, 3, 2, 2, 0, 3, 1, 2, 3, 3, 1, 2, 2,2, 2, 0, 3, 0, 0, 0, 1, 0, 3, 1, 0, 0, 3, 3, 2, 0, 2, 0, 3, 3, 2,1, 0, 3, 2, 0, 1, 3, 1, 2, 1, 0, 3, 2, 2, 0, 3, 3, 3, 2, 1, 2, 3,2, 0, 2, 0, 0, 3, 0, 2, 3, 0, 1, 1, 2, 2, 0, 0, 2, 0, 1, 0, 0, 0,0, 0, 2, 2, 0, 0, 3, 2, 3, 0, 0, 3, 3, 0, 1, 1, 2, 2, 3, 3, 2, 3,1, 2, 1, 2, 1, 1, 0, 0, 2, 2, 1, 3, 0, 2, 1, 1, 1, 1, 3, 3, 1, 3,1, 0])"
      ]
    },
    {
      "cell_type": "markdown",
      "metadata": {
        "id": "l7nW7HExWonI"
      },
      "source": [
        "1. Compute the confusion matrix, i.e. a 4x4 matrix $\\overline{A}$, in which an element $\\overline{A}_{i,j}$ contains the number of elements that were predicted to be in class $i$, while their true class is $j$"
      ]
    },
    {
      "cell_type": "code",
      "execution_count": 29,
      "metadata": {
        "id": "WWzBVgOUWonI"
      },
      "outputs": [
        {
          "name": "stdout",
          "output_type": "stream",
          "text": [
            "Confusion Matrix:\n",
            "[[40 10  4  2]\n",
            " [ 1 30 12  0]\n",
            " [ 3  3 36 11]\n",
            " [ 6  2  1 39]]\n"
          ]
        }
      ],
      "source": [
        "# Compute the confusion matrix\n",
        "confusion_matrix = np.zeros((4, 4), dtype=int)\n",
        "for true, pred in zip(y_true, y_pred):\n",
        "    confusion_matrix[true, pred] += 1\n",
        "\n",
        "# Output the confusion matrix\n",
        "print('Confusion Matrix:')\n",
        "print(confusion_matrix)"
      ]
    },
    {
      "cell_type": "markdown",
      "metadata": {
        "id": "AsVdLp6EWonI"
      },
      "source": [
        "2. Compute Precision, Recall, F-score for every class, and compute the macro F-score"
      ]
    },
    {
      "cell_type": "code",
      "execution_count": 30,
      "metadata": {
        "id": "0M-qeTeWWonI"
      },
      "outputs": [
        {
          "name": "stdout",
          "output_type": "stream",
          "text": [
            "Class 0 - Precision: 0.80, Recall: 0.71, F-score: 0.75\n",
            "Class 1 - Precision: 0.67, Recall: 0.70, F-score: 0.68\n",
            "Class 2 - Precision: 0.68, Recall: 0.68, F-score: 0.68\n",
            "Class 3 - Precision: 0.75, Recall: 0.81, F-score: 0.78\n",
            "Macro F-score: 0.72\n"
          ]
        }
      ],
      "source": [
        "# Compute Precision, Recall, F-score for every class, and compute the macro F-score\n",
        "precision = np.diag(confusion_matrix) / np.sum(confusion_matrix, axis=0)\n",
        "recall = np.diag(confusion_matrix) / np.sum(confusion_matrix, axis=1)\n",
        "f_score = 2 * (precision * recall) / (precision + recall)\n",
        "macro_f_score = np.mean(f_score)\n",
        "\n",
        "# Output the results\n",
        "for i in range(4):\n",
        "    print(f'Class {i} - Precision: {precision[i]:.2f}, Recall: {recall[i]:.2f}, F-score: {f_score[i]:.2f}')\n",
        "print(f'Macro F-score: {macro_f_score:.2f}')"
      ]
    }
  ],
  "metadata": {
    "colab": {
      "provenance": []
    },
    "kernelspec": {
      "display_name": "base",
      "language": "python",
      "name": "python3"
    },
    "language_info": {
      "codemirror_mode": {
        "name": "ipython",
        "version": 3
      },
      "file_extension": ".py",
      "mimetype": "text/x-python",
      "name": "python",
      "nbconvert_exporter": "python",
      "pygments_lexer": "ipython3",
      "version": "3.9.12"
    }
  },
  "nbformat": 4,
  "nbformat_minor": 0
}
